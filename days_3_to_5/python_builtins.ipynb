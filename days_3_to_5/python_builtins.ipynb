{
 "cells": [
  {
   "cell_type": "markdown",
   "metadata": {},
   "source": [
    "# delattr() - deletes object attribute"
   ]
  },
  {
   "cell_type": "code",
   "execution_count": 25,
   "metadata": {},
   "outputs": [],
   "source": [
    "# to demonstrate this we'll create a class onject with a few methods that we'll delete with delattr() method\n",
    "\n",
    "class Mathy:\n",
    "    def __init__(self, x,y):\n",
    "        '''Initialize with two numbers x and y'''\n",
    "        self.x=x\n",
    "        self.y=y\n",
    "    def addition(self):\n",
    "        '''add x and y'''\n",
    "        return self.x + self.y\n",
    "    def subtraction(self):\n",
    "        '''subtract y from x'''\n",
    "        return self.x - self.y\n",
    "    def ex(self):\n",
    "        '''return the value of x'''\n",
    "        return self.x\n",
    "    def why(self):\n",
    "        '''return the value of y'''\n",
    "        return self.y"
   ]
  },
  {
   "cell_type": "code",
   "execution_count": 26,
   "metadata": {},
   "outputs": [
    {
     "data": {
      "text/plain": [
       "4"
      ]
     },
     "execution_count": 26,
     "metadata": {},
     "output_type": "execute_result"
    }
   ],
   "source": [
    "num = Mathy(4,3)\n",
    "num.addition() # returns 7\n",
    "num.subtraction() #returns 1\n",
    "num.ex() # returns 4"
   ]
  },
  {
   "cell_type": "code",
   "execution_count": 155,
   "metadata": {},
   "outputs": [
    {
     "data": {
      "text/plain": [
       "3"
      ]
     },
     "execution_count": 155,
     "metadata": {},
     "output_type": "execute_result"
    }
   ],
   "source": [
    "num.why() # returns y value"
   ]
  },
  {
   "cell_type": "code",
   "execution_count": 23,
   "metadata": {},
   "outputs": [],
   "source": [
    "# let's delete the ex() method of Mathy\n",
    "delattr(Mathy, 'ex' ) # also the same as del Mathy.ex"
   ]
  },
  {
   "cell_type": "markdown",
   "metadata": {},
   "source": [
    "# dir() - Without arguments, return the list of names in the current local scope. \n",
    "#          With an argument, attempt to return a list of valid attributes for that object."
   ]
  },
  {
   "cell_type": "code",
   "execution_count": 156,
   "metadata": {},
   "outputs": [
    {
     "data": {
      "text/plain": [
       "['__class__',\n",
       " '__delattr__',\n",
       " '__dict__',\n",
       " '__dir__',\n",
       " '__doc__',\n",
       " '__eq__',\n",
       " '__format__',\n",
       " '__ge__',\n",
       " '__getattribute__',\n",
       " '__gt__',\n",
       " '__hash__',\n",
       " '__init__',\n",
       " '__init_subclass__',\n",
       " '__le__',\n",
       " '__lt__',\n",
       " '__module__',\n",
       " '__ne__',\n",
       " '__new__',\n",
       " '__reduce__',\n",
       " '__reduce_ex__',\n",
       " '__repr__',\n",
       " '__setattr__',\n",
       " '__sizeof__',\n",
       " '__str__',\n",
       " '__subclasshook__',\n",
       " '__weakref__',\n",
       " 'addition',\n",
       " 'ex',\n",
       " 'subtraction',\n",
       " 'why']"
      ]
     },
     "execution_count": 156,
     "metadata": {},
     "output_type": "execute_result"
    }
   ],
   "source": [
    "# if we call dir() on the Mathy object it will return a bunch attributes including the ones we defined\n",
    "dir(Mathy) \n",
    "# dir(num) will return all attributes including the x and y values the object was initialized with "
   ]
  },
  {
   "cell_type": "markdown",
   "metadata": {},
   "source": [
    "##### However if the __dir__ method was specified, dir() will only return the list specified\n",
    "##### We'll add a   _dir_ attribute to the Mathy class to demonstrate this"
   ]
  },
  {
   "cell_type": "code",
   "execution_count": 157,
   "metadata": {},
   "outputs": [],
   "source": [
    "class Mathy:\n",
    "    def __init__(self, x,y):\n",
    "        '''Initialize with two numbers x and y'''\n",
    "        self.x=x\n",
    "        self.y=y\n",
    "    def addition(self):\n",
    "        '''add x and y'''\n",
    "        return self.x + self.y\n",
    "    def subtraction(self):\n",
    "        '''subtract y from x'''\n",
    "        return self.x - self.y\n",
    "    def ex(self):\n",
    "        '''return the value of x'''\n",
    "        return self.x\n",
    "    def why(self):\n",
    "        '''return the value of y'''\n",
    "        return self.y\n",
    "    def __dir__(self):\n",
    "        '''overrides the __dir__ attribute and returns the list provided in the return statement '''\n",
    "        \n",
    "        return ['addition', 'subtraction', 'ex', 'why'] "
   ]
  },
  {
   "cell_type": "code",
   "execution_count": 158,
   "metadata": {},
   "outputs": [
    {
     "data": {
      "text/plain": [
       "['addition', 'ex', 'subtraction', 'why']"
      ]
     },
     "execution_count": 158,
     "metadata": {},
     "output_type": "execute_result"
    }
   ],
   "source": [
    "a = Mathy(5,2) # create a Mathy object initialized with 5,2\n",
    "dir(a) # returns ['addition', 'ex', 'subtraction', 'why'] as specified in __dir__"
   ]
  },
  {
   "cell_type": "code",
   "execution_count": 159,
   "metadata": {},
   "outputs": [
    {
     "data": {
      "text/plain": [
       "['__add__',\n",
       " '__class__',\n",
       " '__contains__',\n",
       " '__delattr__',\n",
       " '__delitem__',\n",
       " '__dir__',\n",
       " '__doc__',\n",
       " '__eq__',\n",
       " '__format__',\n",
       " '__ge__',\n",
       " '__getattribute__',\n",
       " '__getitem__',\n",
       " '__gt__',\n",
       " '__hash__',\n",
       " '__iadd__',\n",
       " '__imul__',\n",
       " '__init__',\n",
       " '__init_subclass__',\n",
       " '__iter__',\n",
       " '__le__',\n",
       " '__len__',\n",
       " '__lt__',\n",
       " '__mul__',\n",
       " '__ne__',\n",
       " '__new__',\n",
       " '__reduce__',\n",
       " '__reduce_ex__',\n",
       " '__repr__',\n",
       " '__reversed__',\n",
       " '__rmul__',\n",
       " '__setattr__',\n",
       " '__setitem__',\n",
       " '__sizeof__',\n",
       " '__str__',\n",
       " '__subclasshook__',\n",
       " 'append',\n",
       " 'clear',\n",
       " 'copy',\n",
       " 'count',\n",
       " 'extend',\n",
       " 'index',\n",
       " 'insert',\n",
       " 'pop',\n",
       " 'remove',\n",
       " 'reverse',\n",
       " 'sort']"
      ]
     },
     "execution_count": 159,
     "metadata": {},
     "output_type": "execute_result"
    }
   ],
   "source": [
    "dir(list) # will return all the attributes of the list list class"
   ]
  },
  {
   "cell_type": "code",
   "execution_count": null,
   "metadata": {},
   "outputs": [],
   "source": []
  },
  {
   "cell_type": "markdown",
   "metadata": {},
   "source": [
    "# divmod() - Take two (non complex) numbers as arguments and return a pair of numbers consisting of their quotient and remainder when using integer division."
   ]
  },
  {
   "cell_type": "code",
   "execution_count": 160,
   "metadata": {},
   "outputs": [
    {
     "data": {
      "text/plain": [
       "(5, 0)"
      ]
     },
     "execution_count": 160,
     "metadata": {},
     "output_type": "execute_result"
    }
   ],
   "source": [
    "divmod(10,2) # returns a tuple(5, 0) where the first is the result and the second is the remainder"
   ]
  },
  {
   "cell_type": "code",
   "execution_count": 161,
   "metadata": {},
   "outputs": [
    {
     "data": {
      "text/plain": [
       "(21, 1)"
      ]
     },
     "execution_count": 161,
     "metadata": {},
     "output_type": "execute_result"
    }
   ],
   "source": [
    "divmod(43, 2)"
   ]
  },
  {
   "cell_type": "code",
   "execution_count": null,
   "metadata": {},
   "outputs": [],
   "source": []
  },
  {
   "cell_type": "markdown",
   "metadata": {},
   "source": [
    "# enumerate() - Return an enumerate object. iterable must be a sequence, an iterator, or some other object which supports iteration."
   ]
  },
  {
   "cell_type": "code",
   "execution_count": 162,
   "metadata": {},
   "outputs": [],
   "source": [
    "epl_gods = ['man_united', 'old_traffod', 'mufc', 'red_devils', 'theater_of_dreams']"
   ]
  },
  {
   "cell_type": "code",
   "execution_count": 163,
   "metadata": {},
   "outputs": [],
   "source": [
    "teams = enumerate(epl_gods, start=1) "
   ]
  },
  {
   "cell_type": "code",
   "execution_count": 164,
   "metadata": {},
   "outputs": [
    {
     "data": {
      "text/plain": [
       "[(1, 'man_united'),\n",
       " (2, 'old_traffod'),\n",
       " (3, 'mufc'),\n",
       " (4, 'red_devils'),\n",
       " (5, 'theater_of_dreams')]"
      ]
     },
     "execution_count": 164,
     "metadata": {},
     "output_type": "execute_result"
    }
   ],
   "source": [
    "list(teams) "
   ]
  },
  {
   "cell_type": "code",
   "execution_count": 165,
   "metadata": {},
   "outputs": [
    {
     "data": {
      "text/plain": [
       "[(1, 'man_united'),\n",
       " (2, 'old_traffod'),\n",
       " (3, 'mufc'),\n",
       " (4, 'red_devils'),\n",
       " (5, 'theater_of_dreams')]"
      ]
     },
     "execution_count": 165,
     "metadata": {},
     "output_type": "execute_result"
    }
   ],
   "source": [
    "team = list(enumerate(epl_gods, start=1)) # same as above\n",
    "team"
   ]
  },
  {
   "cell_type": "code",
   "execution_count": null,
   "metadata": {},
   "outputs": [],
   "source": []
  },
  {
   "cell_type": "code",
   "execution_count": null,
   "metadata": {},
   "outputs": [],
   "source": []
  },
  {
   "cell_type": "code",
   "execution_count": null,
   "metadata": {},
   "outputs": [],
   "source": []
  },
  {
   "cell_type": "markdown",
   "metadata": {},
   "source": [
    "# eval() - evaluates an expression provided in quotes"
   ]
  },
  {
   "cell_type": "code",
   "execution_count": 166,
   "metadata": {},
   "outputs": [
    {
     "data": {
      "text/plain": [
       "5"
      ]
     },
     "execution_count": 166,
     "metadata": {},
     "output_type": "execute_result"
    }
   ],
   "source": [
    "eval('1+4') # returns 5"
   ]
  },
  {
   "cell_type": "code",
   "execution_count": 167,
   "metadata": {},
   "outputs": [
    {
     "data": {
      "text/plain": [
       "[(1, 'man_united'),\n",
       " (2, 'old_traffod'),\n",
       " (3, 'mufc'),\n",
       " (4, 'red_devils'),\n",
       " (5, 'theater_of_dreams')]"
      ]
     },
     "execution_count": 167,
     "metadata": {},
     "output_type": "execute_result"
    }
   ],
   "source": [
    "eval('team') # returns list of elements in team"
   ]
  },
  {
   "cell_type": "markdown",
   "metadata": {},
   "source": [
    "# filter() - Construct an iterator from those elements of iterable for which function returns true"
   ]
  },
  {
   "cell_type": "code",
   "execution_count": 168,
   "metadata": {},
   "outputs": [],
   "source": [
    "# create a function to be passed into the filter() method \n",
    "\n",
    "def chaga_filter(names):\n",
    "    key = ['chaga', 'alaa', 'jalz']\n",
    "\n",
    "    if names in key:\n",
    "        return True\n",
    "    return False"
   ]
  },
  {
   "cell_type": "code",
   "execution_count": 169,
   "metadata": {},
   "outputs": [],
   "source": [
    "names = ['alaa', 'jalz', 'chaga', 'lakwaamu',]"
   ]
  },
  {
   "cell_type": "code",
   "execution_count": 170,
   "metadata": {},
   "outputs": [],
   "source": [
    "results = filter(chaga_filter, names) # function passed in with names as the the iterable object (list)"
   ]
  },
  {
   "cell_type": "code",
   "execution_count": 171,
   "metadata": {},
   "outputs": [
    {
     "name": "stdout",
     "output_type": "stream",
     "text": [
      "alaa\n",
      "jalz\n",
      "chaga\n"
     ]
    }
   ],
   "source": [
    "for name in results:\n",
    "    print(name) # prints an element for any True value returned by the chaga_filter function"
   ]
  },
  {
   "cell_type": "code",
   "execution_count": null,
   "metadata": {},
   "outputs": [],
   "source": []
  },
  {
   "cell_type": "markdown",
   "metadata": {},
   "source": [
    "# float() - Return a floating point number constructed from a number or string x"
   ]
  },
  {
   "cell_type": "code",
   "execution_count": 172,
   "metadata": {},
   "outputs": [
    {
     "data": {
      "text/plain": [
       "3.0"
      ]
     },
     "execution_count": 172,
     "metadata": {},
     "output_type": "execute_result"
    }
   ],
   "source": [
    "float('3') # will convert string to float: 3.0"
   ]
  },
  {
   "cell_type": "code",
   "execution_count": 173,
   "metadata": {},
   "outputs": [
    {
     "data": {
      "text/plain": [
       "3.0"
      ]
     },
     "execution_count": 173,
     "metadata": {},
     "output_type": "execute_result"
    }
   ],
   "source": [
    "float(3)"
   ]
  },
  {
   "cell_type": "code",
   "execution_count": 174,
   "metadata": {},
   "outputs": [
    {
     "data": {
      "text/plain": [
       "32.0"
      ]
     },
     "execution_count": 174,
     "metadata": {},
     "output_type": "execute_result"
    }
   ],
   "source": [
    "float('3' + '2') #concatenates the two strings then converts them to floating point number"
   ]
  },
  {
   "cell_type": "code",
   "execution_count": null,
   "metadata": {},
   "outputs": [],
   "source": []
  }
 ],
 "metadata": {
  "kernelspec": {
   "display_name": "Python 3",
   "language": "python",
   "name": "python3"
  },
  "language_info": {
   "codemirror_mode": {
    "name": "ipython",
    "version": 3
   },
   "file_extension": ".py",
   "mimetype": "text/x-python",
   "name": "python",
   "nbconvert_exporter": "python",
   "pygments_lexer": "ipython3",
   "version": "3.6.8"
  }
 },
 "nbformat": 4,
 "nbformat_minor": 2
}
