{
 "cells": [
  {
   "cell_type": "code",
   "execution_count": null,
   "metadata": {},
   "outputs": [],
   "source": []
  },
  {
   "cell_type": "code",
   "execution_count": null,
   "metadata": {},
   "outputs": [],
   "source": []
  },
  {
   "cell_type": "markdown",
   "metadata": {},
   "source": [
    "# bytearray() - Return a new array of bytes"
   ]
  },
  {
   "cell_type": "code",
   "execution_count": 46,
   "metadata": {},
   "outputs": [
    {
     "name": "stdout",
     "output_type": "stream",
     "text": [
      "bytearray(b'The bytearray method takes optional parameters')\n",
      "bytearray(b'The bytearray method takes optional parameters')\n",
      "bytearray(b'\\x00\\x00\\x00\\x00\\x00\\x00\\x00\\x00')\n",
      "bytearray(b'\\x01\\x02\\x03\\x05\\x07')\n"
     ]
    }
   ],
   "source": [
    "phrase = \"The bytearray method takes optional parameters\"\n",
    "\n",
    "# if source is a string, encoding must be provided. eg 'utf-8'\n",
    "array = bytearray(phrase, 'ascii')\n",
    "array2 = bytearray(phrase, 'utf-8')\n",
    "print(array)\n",
    "print(array2)\n",
    "\n",
    "num = 8\n",
    "\n",
    "arr = bytearray(num) #If it is an integer, the array will have that size and will be initialized with null bytes.\n",
    "print(arr)\n",
    "\n",
    "nums = [1, 2, 3, 5, 7]\n",
    "\n",
    "numsarray = bytearray(nums) #If it is an iterable, it must be an iterable of integers in the range 0 <= x < 256, which are used as the initial contents of the array.\n",
    "print(numsarray)"
   ]
  },
  {
   "cell_type": "code",
   "execution_count": 47,
   "metadata": {},
   "outputs": [
    {
     "name": "stdout",
     "output_type": "stream",
     "text": [
      "before mutation: 32\n",
      "after mutation: 33\n"
     ]
    }
   ],
   "source": [
    "# bytearray() is mutable\n",
    "print(f'before mutation: {array[3]}') # returns 32\n",
    "array[3] = 33 # assings 33 to that index\n",
    "print(f'after mutation: {array[3]}')"
   ]
  },
  {
   "cell_type": "markdown",
   "metadata": {},
   "source": [
    "# bytes() - same as bytesarray() except that it is immutable"
   ]
  },
  {
   "cell_type": "code",
   "execution_count": 48,
   "metadata": {},
   "outputs": [],
   "source": [
    "string = \"You can't mutate me, yunno. But give it a try!\""
   ]
  },
  {
   "cell_type": "code",
   "execution_count": 50,
   "metadata": {},
   "outputs": [],
   "source": [
    "arrayed= bytes(string, 'utf-8')"
   ]
  },
  {
   "cell_type": "code",
   "execution_count": 52,
   "metadata": {},
   "outputs": [
    {
     "name": "stdout",
     "output_type": "stream",
     "text": [
      "b\"You can't mutate me, yunno. But give it a try!\"\n"
     ]
    }
   ],
   "source": [
    "print(arrayed)"
   ]
  },
  {
   "cell_type": "code",
   "execution_count": 55,
   "metadata": {},
   "outputs": [],
   "source": [
    "arrayed[3]=33 # throws an error because it's immutable"
   ]
  },
  {
   "cell_type": "code",
   "execution_count": null,
   "metadata": {},
   "outputs": [],
   "source": []
  },
  {
   "cell_type": "markdown",
   "metadata": {},
   "source": [
    "# callable() - Return True if the object argument appears callable, False if not. "
   ]
  },
  {
   "cell_type": "code",
   "execution_count": 61,
   "metadata": {},
   "outputs": [
    {
     "data": {
      "text/plain": [
       "True"
      ]
     },
     "execution_count": 61,
     "metadata": {},
     "output_type": "execute_result"
    }
   ],
   "source": [
    "callable(int) # returns true because the int fucntion is a callable object"
   ]
  },
  {
   "cell_type": "code",
   "execution_count": 64,
   "metadata": {},
   "outputs": [],
   "source": [
    "# define a function and pass it as a paramater to callable to see if it is callable\n",
    "def callme():\n",
    "    return \"Yes, please!\""
   ]
  },
  {
   "cell_type": "code",
   "execution_count": 66,
   "metadata": {},
   "outputs": [
    {
     "data": {
      "text/plain": [
       "True"
      ]
     },
     "execution_count": 66,
     "metadata": {},
     "output_type": "execute_result"
    }
   ],
   "source": [
    "callable(callme) # callme is a callable function"
   ]
  },
  {
   "cell_type": "code",
   "execution_count": 74,
   "metadata": {},
   "outputs": [],
   "source": [
    "# If this (callable()) returns True, it is still possible that a call fails, but if it is False, calling object will never succeed"
   ]
  },
  {
   "cell_type": "code",
   "execution_count": null,
   "metadata": {},
   "outputs": [],
   "source": [
    "class CallMe:\n",
    "    pass\n",
    "# here we created a class that is not callable "
   ]
  },
  {
   "cell_type": "code",
   "execution_count": 75,
   "metadata": {},
   "outputs": [
    {
     "data": {
      "text/plain": [
       "True"
      ]
     },
     "execution_count": 75,
     "metadata": {},
     "output_type": "execute_result"
    }
   ],
   "source": [
    "callable(CallMe)  # reutrns true even though our class is not callable"
   ]
  },
  {
   "cell_type": "code",
   "execution_count": 70,
   "metadata": {},
   "outputs": [],
   "source": [
    "caller = CallMe() "
   ]
  },
  {
   "cell_type": "code",
   "execution_count": 73,
   "metadata": {},
   "outputs": [
    {
     "data": {
      "text/plain": [
       "<__main__.CallMe at 0x285725a4160>"
      ]
     },
     "execution_count": 73,
     "metadata": {},
     "output_type": "execute_result"
    }
   ],
   "source": [
    "caller() # throws an error becasue caller is not callable"
   ]
  },
  {
   "cell_type": "code",
   "execution_count": null,
   "metadata": {},
   "outputs": [],
   "source": []
  },
  {
   "cell_type": "markdown",
   "metadata": {},
   "source": [
    "# chr() - Return the string representing a character whose Unicode code point is the integer i."
   ]
  },
  {
   "cell_type": "code",
   "execution_count": 82,
   "metadata": {},
   "outputs": [
    {
     "data": {
      "text/plain": [
       "'ò'"
      ]
     },
     "execution_count": 82,
     "metadata": {},
     "output_type": "execute_result"
    }
   ],
   "source": [
    "chr(242)"
   ]
  },
  {
   "cell_type": "code",
   "execution_count": 83,
   "metadata": {},
   "outputs": [],
   "source": [
    "# The valid range for the argument is from 0 through 1,114,111"
   ]
  },
  {
   "cell_type": "code",
   "execution_count": 88,
   "metadata": {},
   "outputs": [
    {
     "data": {
      "text/plain": [
       "'Y'"
      ]
     },
     "execution_count": 88,
     "metadata": {},
     "output_type": "execute_result"
    }
   ],
   "source": [
    "chr(89)"
   ]
  },
  {
   "cell_type": "markdown",
   "metadata": {},
   "source": [
    "# @classmethod - Transform a method into a class method."
   ]
  },
  {
   "cell_type": "code",
   "execution_count": null,
   "metadata": {},
   "outputs": [],
   "source": []
  },
  {
   "cell_type": "code",
   "execution_count": 151,
   "metadata": {},
   "outputs": [],
   "source": [
    "class Goat: \n",
    "      \n",
    "    # create an attribute \n",
    "    goat = 'Messi'\n",
    "      \n",
    "    # create a function \n",
    "    @classmethod\n",
    "    def who_is_goat(self): \n",
    "        print(f'The GOAT is {self.goat}!') "
   ]
  },
  {
   "cell_type": "code",
   "execution_count": 152,
   "metadata": {},
   "outputs": [
    {
     "name": "stdout",
     "output_type": "stream",
     "text": [
      "The GOAT is Messi!\n"
     ]
    }
   ],
   "source": [
    "Goat.who_is_goat()"
   ]
  },
  {
   "cell_type": "code",
   "execution_count": 153,
   "metadata": {},
   "outputs": [],
   "source": [
    "# without the classmethod decorator, calling the who_is_goat function would throw an error\n",
    "# "
   ]
  },
  {
   "cell_type": "code",
   "execution_count": 159,
   "metadata": {},
   "outputs": [],
   "source": [
    "class Goats: \n",
    "    # initialize the class with a name\n",
    "    def __init__(self, name):\n",
    "            self.goat = name\n",
    "            \n",
    "    def who_is_goat(self): \n",
    "        print(f'The GOAT is {self.goat}!') \n",
    "# because we have an init method, we do not need to use the @classmethod to be able to call \n",
    "# the who_is_goat() method as seen below"
   ]
  },
  {
   "cell_type": "code",
   "execution_count": 161,
   "metadata": {},
   "outputs": [
    {
     "name": "stdout",
     "output_type": "stream",
     "text": [
      "The GOAT is Messi!\n"
     ]
    }
   ],
   "source": [
    "messi = Goats('Messi')\n",
    "messi.who_is_goat()"
   ]
  },
  {
   "cell_type": "code",
   "execution_count": null,
   "metadata": {},
   "outputs": [],
   "source": []
  }
 ],
 "metadata": {
  "kernelspec": {
   "display_name": "Python 3",
   "language": "python",
   "name": "python3"
  },
  "language_info": {
   "codemirror_mode": {
    "name": "ipython",
    "version": 3
   },
   "file_extension": ".py",
   "mimetype": "text/x-python",
   "name": "python",
   "nbconvert_exporter": "python",
   "pygments_lexer": "ipython3",
   "version": "3.6.8"
  }
 },
 "nbformat": 4,
 "nbformat_minor": 2
}
